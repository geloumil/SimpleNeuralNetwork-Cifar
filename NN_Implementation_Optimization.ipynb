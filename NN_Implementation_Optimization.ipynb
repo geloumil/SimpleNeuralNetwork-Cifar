{
 "cells": [
  {
   "cell_type": "code",
   "execution_count": 5,
   "metadata": {},
   "outputs": [],
   "source": [
    "import numpy as np\n",
    "import keras\n",
    "import tensorflow as tf\n",
    "from keras.models import Sequential\n",
    "from keras.layers import Dense, Dropout#,LeakyReLU,PReLU,ThresholdedReLU,ELU\n",
    "from keras.optimizers import SGD\n",
    "import cPickle\n",
    "\n",
    "import matplotlib.pyplot as plt"
   ]
  },
  {
   "cell_type": "code",
   "execution_count": 6,
   "metadata": {},
   "outputs": [
    {
     "name": "stdout",
     "output_type": "stream",
     "text": [
      "(50000, 3072)\n"
     ]
    }
   ],
   "source": [
    "def unpickle(file):\n",
    "    with open(file, 'rb') as fo:\n",
    "        d = cPickle.load(fo)\n",
    "    return d[\"data\"],d[\"labels\"]\n",
    "\n",
    "temp=unpickle(\"cifar-10-batches-py/data_batch_1\")\n",
    "features=temp[0]\n",
    "labels=temp[1]\n",
    "\n",
    "for i in range(2,6):\n",
    "    temp=unpickle(\"cifar-10-batches-py/data_batch_\"+str(i))\n",
    "    features=np.concatenate((features,temp[0]))\n",
    "    labels=labels+temp[1]\n",
    "\n",
    "\n",
    "testF,testL=unpickle(\"cifar-10-batches-py/test_batch\")\n",
    "\n",
    "print features.shape"
   ]
  },
  {
   "cell_type": "code",
   "execution_count": 7,
   "metadata": {},
   "outputs": [
    {
     "data": {
      "image/png": "[encoded data removed]",
      "text/plain": [
       "<Figure size 432x288 with 1 Axes>"
      ]
     },
     "metadata": {},
     "output_type": "display_data"
    }
   ],
   "source": [
    "batch_size = len(features)\n",
    "num_classes = len(set(labels))\n",
    "epochs = 80\n",
    "\n",
    "plt.hist(features.flatten(),bins=\"auto\")  # arguments are passed to np.histogram\n",
    "plt.title(\"Histogram fo feature values\")\n",
    "plt.show()"
   ]
  },
  {
   "cell_type": "code",
   "execution_count": 8,
   "metadata": {},
   "outputs": [],
   "source": [
    "features = features.astype('float32')\n",
    "testF = testF.astype('float32')\n",
    "features /= 255\n",
    "testF /= 255\n",
    "labels = keras.utils.to_categorical(labels, num_classes)\n",
    "testL = keras.utils.to_categorical(testL, num_classes)"
   ]
  },
  {
   "cell_type": "code",
   "execution_count": null,
   "metadata": {},
   "outputs": [
    {
     "name": "stdout",
     "output_type": "stream",
     "text": [
      "_________________________________________________________________\n",
      "Layer (type)                 Output Shape              Param #   \n",
      "=================================================================\n",
      "dense_13 (Dense)             (None, 512)               1573376   \n",
      "_________________________________________________________________\n",
      "dense_14 (Dense)             (None, 512)               262656    \n",
      "_________________________________________________________________\n",
      "dense_15 (Dense)             (None, 512)               262656    \n",
      "_________________________________________________________________\n",
      "dense_16 (Dense)             (None, 10)                5130      \n",
      "=================================================================\n",
      "Total params: 2,103,818\n",
      "Trainable params: 2,103,818\n",
      "Non-trainable params: 0\n",
      "_________________________________________________________________\n",
      "Train on 50000 samples, validate on 10000 samples\n",
      "Epoch 1/80\n",
      "50000/50000 [==============================] - 19s 386us/step - loss: 1.9588 - acc: 0.2970 - val_loss: 1.8504 - val_acc: 0.3393\n",
      "Epoch 2/80\n",
      "50000/50000 [==============================] - 19s 383us/step - loss: 1.7830 - acc: 0.3685 - val_loss: 1.7284 - val_acc: 0.3875\n",
      "Epoch 3/80\n",
      "50000/50000 [==============================] - 19s 390us/step - loss: 1.7061 - acc: 0.3970 - val_loss: 1.7009 - val_acc: 0.4009\n",
      "Epoch 4/80\n",
      "50000/50000 [==============================] - 19s 384us/step - loss: 1.6533 - acc: 0.4188 - val_loss: 1.6200 - val_acc: 0.4266\n",
      "Epoch 5/80\n",
      "50000/50000 [==============================] - 19s 390us/step - loss: 1.6062 - acc: 0.4311 - val_loss: 1.5755 - val_acc: 0.4417\n",
      "Epoch 6/80\n",
      "50000/50000 [==============================] - 19s 387us/step - loss: 1.5681 - acc: 0.4474 - val_loss: 1.5490 - val_acc: 0.4571\n",
      "Epoch 7/80\n",
      "50000/50000 [==============================] - 19s 386us/step - loss: 1.5378 - acc: 0.4595 - val_loss: 1.5309 - val_acc: 0.4598\n",
      "Epoch 8/80\n",
      "50000/50000 [==============================] - 19s 387us/step - loss: 1.5109 - acc: 0.4674 - val_loss: 1.4972 - val_acc: 0.4738\n",
      "Epoch 9/80\n",
      "50000/50000 [==============================] - 19s 387us/step - loss: 1.4849 - acc: 0.4769 - val_loss: 1.5261 - val_acc: 0.4543\n",
      "Epoch 10/80\n",
      "50000/50000 [==============================] - 27s 535us/step - loss: 1.4652 - acc: 0.4835 - val_loss: 1.4664 - val_acc: 0.4806\n",
      "Epoch 11/80\n",
      "50000/50000 [==============================] - 30s 605us/step - loss: 1.4442 - acc: 0.4919 - val_loss: 1.4692 - val_acc: 0.4802\n",
      "Epoch 12/80\n",
      "50000/50000 [==============================] - 30s 608us/step - loss: 1.4184 - acc: 0.5009 - val_loss: 1.4267 - val_acc: 0.4978\n",
      "Epoch 13/80\n",
      "50000/50000 [==============================] - 25s 500us/step - loss: 1.3986 - acc: 0.5073 - val_loss: 1.4648 - val_acc: 0.4706\n",
      "Epoch 14/80\n",
      "50000/50000 [==============================] - 27s 541us/step - loss: 1.3793 - acc: 0.5166 - val_loss: 1.4321 - val_acc: 0.4907\n",
      "Epoch 15/80\n",
      "50000/50000 [==============================] - 29s 582us/step - loss: 1.3658 - acc: 0.5187 - val_loss: 1.4458 - val_acc: 0.4915\n",
      "Epoch 16/80\n",
      "50000/50000 [==============================] - 29s 585us/step - loss: 1.3465 - acc: 0.5259 - val_loss: 1.4498 - val_acc: 0.4917\n",
      "Epoch 17/80\n",
      "50000/50000 [==============================] - 27s 535us/step - loss: 1.3299 - acc: 0.5303 - val_loss: 1.4497 - val_acc: 0.4825\n",
      "Epoch 18/80\n",
      "50000/50000 [==============================] - 28s 555us/step - loss: 1.3130 - acc: 0.5373 - val_loss: 1.3668 - val_acc: 0.5121\n",
      "Epoch 19/80\n",
      "50000/50000 [==============================] - 33s 654us/step - loss: 1.3014 - acc: 0.5433 - val_loss: 1.4424 - val_acc: 0.4797\n",
      "Epoch 20/80\n",
      "50000/50000 [==============================] - 30s 600us/step - loss: 1.2868 - acc: 0.5456 - val_loss: 1.3609 - val_acc: 0.5131\n",
      "Epoch 21/80\n",
      "50000/50000 [==============================] - 31s 614us/step - loss: 1.2690 - acc: 0.5530 - val_loss: 1.3540 - val_acc: 0.5185\n",
      "Epoch 22/80\n",
      "50000/50000 [==============================] - 22s 447us/step - loss: 1.2567 - acc: 0.5571 - val_loss: 1.3568 - val_acc: 0.5125\n",
      "Epoch 23/80\n",
      "49900/50000 [============================>.] - ETA: 0s - loss: 1.2433 - acc: 0.5637"
     ]
    }
   ],
   "source": [
    "model = Sequential()\n",
    "model.add(Dense(512, activation='relu', input_shape=(3072,)))\n",
    "model.add(Dense(512, activation='relu'))\n",
    "model.add(Dense(512, activation='relu'))\n",
    "model.add(Dense(num_classes, activation='softmax'))\n",
    "model.summary()\n",
    "model.compile(loss='categorical_crossentropy',\n",
    "    optimizer=SGD(),\n",
    "    metrics=['accuracy'])\n",
    "\n",
    "history = model.fit(features, labels,\n",
    "    batch_size=100,\n",
    "    epochs=epochs,\n",
    "    validation_data=(testF, testL))\n",
    "\n",
    "score = model.evaluate(testF, testL, verbose=0)\n",
    "print('Test loss:', score[0])\n",
    "print('Test accuracy:', score[1])"
   ]
  },
  {
   "cell_type": "code",
   "execution_count": null,
   "metadata": {},
   "outputs": [],
   "source": []
  }
 ],
 "metadata": {
  "kernelspec": {
   "display_name": "Python 2",
   "language": "python",
   "name": "python2"
  },
  "language_info": {
   "codemirror_mode": {
    "name": "ipython",
    "version": 2
   },
   "file_extension": ".py",
   "mimetype": "text/x-python",
   "name": "python",
   "nbconvert_exporter": "python",
   "pygments_lexer": "ipython2",
   "version": "2.7.15"
  }
 },
 "nbformat": 4,
 "nbformat_minor": 2
}
